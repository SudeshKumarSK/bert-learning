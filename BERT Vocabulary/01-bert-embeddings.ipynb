{
 "cells": [
  {
   "attachments": {},
   "cell_type": "markdown",
   "metadata": {},
   "source": [
    "## Importing the necessary libraries."
   ]
  },
  {
   "cell_type": "code",
   "execution_count": 3,
   "metadata": {},
   "outputs": [],
   "source": [
    "import matplotlib.pyplot as plt\n",
    "import seaborn as sns\n",
    "import numpy as np\n",
    "import torch\n",
    "from pytorch_pretrained_bert import BertTokenizer\n",
    "\n",
    "# Load pre-trained model tokenizer (vocabulary)\n",
    "tokenizer = BertTokenizer.from_pretrained('bert-base-uncased')"
   ]
  },
  {
   "attachments": {},
   "cell_type": "markdown",
   "metadata": {},
   "source": [
    "## Inspect BERT Vocabulary\n"
   ]
  },
  {
   "cell_type": "code",
   "execution_count": 5,
   "metadata": {},
   "outputs": [],
   "source": [
    "with open(\"vocabulary.txt\", 'w') as f:\n",
    "    \n",
    "    # For each token...\n",
    "    for token in tokenizer.vocab.keys():\n",
    "        \n",
    "        # Write it out and escape any unicode characters.            \n",
    "        f.write(token + '\\n')"
   ]
  },
  {
   "attachments": {},
   "cell_type": "markdown",
   "metadata": {},
   "source": [
    "Findings from the bert vocabulary.\n",
    "* The first 999 tokens (1-indexed) appear to be reserved, and most are of the form [unused957].\n",
    "    * 1   - [PAD]\n",
    "    * 101 - [UNK]\n",
    "    * 102 - [CLS]\n",
    "    * 103 - [SEP]\n",
    "    * 104 - [MASK]\n",
    "* Rows 1000-1996 appear to be a dump of individual characters. \n",
    "    * They don't appear to be sorted by frequency (e.g., the letters of the alphabet are all in sequence).\n",
    "* The first word is \"the\" at position 1997.\n",
    "    * From there, the words appear to be sorted by frequency. \n",
    "    * The top ~18 words are whole words, and then number 2016 is ##s, presumably the most common subword.\n",
    "    * The last whole word is at 29612, \"necessitated\""
   ]
  }
 ],
 "metadata": {
  "kernelspec": {
   "display_name": "ilabs",
   "language": "python",
   "name": "python3"
  },
  "language_info": {
   "codemirror_mode": {
    "name": "ipython",
    "version": 3
   },
   "file_extension": ".py",
   "mimetype": "text/x-python",
   "name": "python",
   "nbconvert_exporter": "python",
   "pygments_lexer": "ipython3",
   "version": "3.11.3"
  },
  "orig_nbformat": 4
 },
 "nbformat": 4,
 "nbformat_minor": 2
}
