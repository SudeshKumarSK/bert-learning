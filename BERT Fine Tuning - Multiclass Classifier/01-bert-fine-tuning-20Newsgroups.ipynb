{
 "cells": [
  {
   "attachments": {},
   "cell_type": "markdown",
   "metadata": {},
   "source": [
    "### Contributor: Sudesh Kumar Santhosh Kumar\n",
    "- Email: sudeshkumar.santhoshkumar@lexisnexis.com\n",
    "- Date: 21st June, 2023\n",
    "\n",
    "Description:  This Notebook will show you how to fine-tune BERT for multi-class text classification tasks, meaning that there are more than just two classes in the dataset. We'll be using the 20 Newsgroups dataset, which is a test classification dataset with 20 different classes. "
   ]
  },
  {
   "attachments": {},
   "cell_type": "markdown",
   "metadata": {},
   "source": [
    "**Multi-Label vs. Multi-Class**\n",
    "\n",
    "It is important to distinguish between \"Multi-Class\" and \"Multi-Label\" as they pertain to different types of tasks and are handled differently.\n",
    "\n",
    "In \"Multi-Label\" classification, documents can be assigned multiple labels. This means that a document may have several appropriate tags or categories associated with it. For instance, consider a system that suggests tags for documents where multiple tags may be relevant.\n",
    "\n",
    "On the other hand, \"Multi-Class\" classification applies when each document is assigned only one category. If there are only two possible categories, it is known as \"Binary\" classification. If there are more than two categories, it is referred to as \"Multi-Class\" classification. In this scenario, each document is assigned to a single category, without the possibility of multiple labels.\n",
    "\n",
    "By understanding these distinctions, we can appropriately handle and address the requirements of each type of classification task."
   ]
  },
  {
   "attachments": {},
   "cell_type": "markdown",
   "metadata": {},
   "source": [
    "# Part I - Installation, Loading Dataset and Tokenization\n",
    "---------------------------------"
   ]
  },
  {
   "attachments": {},
   "cell_type": "markdown",
   "metadata": {},
   "source": [
    "## S1. Setting up the Notebook\n"
   ]
  },
  {
   "attachments": {},
   "cell_type": "markdown",
   "metadata": {},
   "source": [
    "### 1.1. Basic Pre-requisites and Installations"
   ]
  },
  {
   "attachments": {},
   "cell_type": "markdown",
   "metadata": {},
   "source": [
    "If you're using this notebook on Google Colab, Don't forget to uncomment the following cell to install transformers library into the notebook. If you're using this notebook on your local machine through VS Code or Jupyter notebook, you need to do a \"pip install -r requirements.txt\" before running the following set of code blocks."
   ]
  },
  {
   "cell_type": "code",
   "execution_count": 1,
   "metadata": {},
   "outputs": [],
   "source": [
    "# !pip install transformers"
   ]
  },
  {
   "attachments": {},
   "cell_type": "markdown",
   "metadata": {},
   "source": [
    "### 1.2. Importing all necessary libraries"
   ]
  },
  {
   "cell_type": "code",
   "execution_count": 2,
   "metadata": {},
   "outputs": [],
   "source": [
    "import textwrap\n",
    "import random\n",
    "import csv\n",
    "import os\n",
    "import time\n",
    "import datetime\n",
    "\n",
    "import matplotlib.pyplot as plt\n",
    "import seaborn as sns\n",
    "import numpy as np\n",
    "import pandas as pd\n",
    "\n",
    "import torch\n",
    "from torch.utils.data import TensorDataset, random_split\n",
    "from torch.utils.data import DataLoader, RandomSampler, SequentialSampler\n",
    "from transformers import get_linear_schedule_with_warmup\n",
    "from transformers import BertTokenizer\n",
    "from transformers import BertForSequenceClassification, AdamW, BertConfig\n",
    "\n",
    "from sklearn.model_selection import train_test_split\n",
    "from sklearn.datasets import fetch_20newsgroups\n",
    "from sklearn.feature_extraction.text import TfidfVectorizer\n",
    "from sklearn.naive_bayes import MultinomialNB\n",
    "from sklearn import metrics\n",
    "\n",
    "\n"
   ]
  },
  {
   "attachments": {},
   "cell_type": "markdown",
   "metadata": {},
   "source": [
    "### 1.3. Connecting to GPU "
   ]
  },
  {
   "cell_type": "code",
   "execution_count": 3,
   "metadata": {},
   "outputs": [
    {
     "name": "stdout",
     "output_type": "stream",
     "text": [
      "No GPU available, using the CPU!\n"
     ]
    }
   ],
   "source": [
    "# Checking if there is a GPU Available.\n",
    "if torch.cuda.is_available():\n",
    "\n",
    "    device = torch.device((\"cuda\"))\n",
    "    print(f\"There are {torch.cuda.device_count()} available.\")\n",
    "    print(f\"We will use the GPU: {torch.cuda.get_device_name(0)}\")\n",
    "\n",
    "else:\n",
    "    print(\"No GPU available, using the CPU!\")\n",
    "    device = torch.device(\"cpu\")"
   ]
  },
  {
   "attachments": {},
   "cell_type": "markdown",
   "metadata": {},
   "source": [
    "## S2. Load Dataset from scikit-learn and Inspect it"
   ]
  },
  {
   "cell_type": "markdown",
   "metadata": {},
   "source": [
    "### 2.1. import dataset from scikit-learn"
   ]
  },
  {
   "attachments": {},
   "cell_type": "markdown",
   "metadata": {},
   "source": [
    "The 20 Newsgroups dataset is old (from the 1990s?), and contains what today we would probably call \"forum posts\", coming from 20 different subtopics. \n",
    "\n",
    "The 20 categories (or) classes are as follows:\n",
    "\n",
    "* comp.graphics\n",
    "* comp.os.ms-windows.misc\n",
    "* comp.sys.ibm.pc.hardware\n",
    "* comp.sys.mac.hardware\n",
    "* comp.windows.x\t\n",
    "* rec.autos\n",
    "* rec.motorcycles\n",
    "* rec.sport.baseball\n",
    "* rec.sport.hockey\t\n",
    "* sci.crypt\n",
    "* sci.electronics\n",
    "* sci.med\n",
    "* sci.space\n",
    "* misc.forsale\t\n",
    "* talk.politics.misc\n",
    "* talk.politics.guns\n",
    "* talk.politics.mideast\t\n",
    "* talk.religion.misc\n",
    "* alt.atheism\n",
    "* soc.religion.christian\n",
    "\n",
    "Scikit-learn includes some nice helper functions for retrieving the 20 Newsgroups dataset (from their example [here](https://scikit-learn.org/0.19/datasets/twenty_newsgroups.html)). We'll use them below to retrieve the dataset.\n"
   ]
  },
  {
   "cell_type": "code",
   "execution_count": 4,
   "metadata": {},
   "outputs": [],
   "source": [
    "# Removing the meta-data from the train and test subsets.\n",
    "train = fetch_20newsgroups(subset='train',\n",
    "                           remove=('headers', 'footers', 'quotes'))\n",
    "\n",
    "test = fetch_20newsgroups(subset='test',\n",
    "                           remove=('headers', 'footers', 'quotes'))"
   ]
  },
  {
   "attachments": {},
   "cell_type": "markdown",
   "metadata": {},
   "source": [
    "### 2.2. Inspecting the data"
   ]
  },
  {
   "cell_type": "code",
   "execution_count": 5,
   "metadata": {},
   "outputs": [
    {
     "name": "stdout",
     "output_type": "stream",
     "text": [
      "\n",
      "======== comp.sys.ibm.pc.hardware ========\n",
      "Okay, here is my configuration:  80486-33 Gateway 433C Micronics ISA 12MB RAM\n",
      "WD212MB IDE HD ( drive C: ) ST3144A 125MB IDE HD ( drive D: ) Adaptec SCSI 1542B\n",
      "controller, with SCSI BIOS enabled Seagate ST296N 80MB SCSI drive  Alrighty,\n",
      "when I boot up I get the Adaptec BIOS message, but it says something like:\n",
      "\"Drive C: installed\" \"Drive D: installed\" \"ADaptec SCSI BIOS not installed!\"\n",
      "And I can't get to the Seagate drive.  I go into PhoenixBIOS setup, remove the\n",
      "entry for drive D:, and BOOM, I can access the Seagate.  Is there a way to get\n",
      "two IDE drives and the Seagate at the same time?  I have ASPI4DOS.SYS, but it\n",
      "just hangs the system.\n",
      "\n",
      "\n",
      "======== talk.politics.mideast ========\n",
      "   You somehow missed Nabil's comments, even though you included it in your\n",
      "followup:     >The number which could have arrived to the Holy Lands must have\n",
      "been   >substantially less ude to the harsh desert and the killings between the\n",
      ">Jewish tribes on the way..  I am not aware of \"killings between Jewish tribes\"\n",
      "in the desert.  The point of \"typical thinking\" here is that while Arabs STILL\n",
      "TODAY act in the manner you describe, like \"any nomadic people occupying a\n",
      "land\", killing and plundering each other with regularity, others have somehow\n",
      "progressed over time.  It is not surprising then that Arabs often accuse others\n",
      "(infidels) of things that they are quite familiar with: civil rights violations,\n",
      "religious discrimination, ethnic cleansing, land theft, torture and murder.  It\n",
      "is precisely this  mechanism at work that leads people to say that Jewish tribes\n",
      "were killing each other in the desert, even without support for such a ludicrous\n",
      "suggestion.\n",
      "\n",
      "\n",
      "======== rec.motorcycles ========\n",
      ": The driver had looked over at me casually a couple of times; I : know he knew\n",
      "I was there.  oh, okay.  then in that case it was attemped vehicular\n",
      "manslaughter. he definitely wanted to kill you. all cagers want to kill bikers.\n",
      "that's the only explanation that i can think of.\n",
      "\n",
      "\n",
      "======== rec.sport.baseball ========\n",
      "Actually, there can be any number of players on a side. You can have a 25-man\n",
      "roster, a 40-man roster, etc....  Ryan Robbins Penobscot Hall University of\n",
      "Maine\n",
      "\n",
      "\n",
      "======== sci.crypt ========\n",
      "My earlier argument that \"Clipper will encourage state and local cops  to commit\n",
      "criminal acts\" is largely moot, now that we've learned that  the FBI will\n",
      "perform the actual tap.  [It will encourage the *FBI* to commit (even more)\n",
      "criminal acts, but that's not the point here.]  But this gives another avenue of\n",
      "attack on the Clipper proposal.  When the EFF/ACLU/CPSR FOIA requests are made,\n",
      "they should ask for details on the bureaucratic and equipment infrastructure\n",
      "that is proposed (or  even already budgeted) for the FBI to service tapping\n",
      "requests -- for now and the projected future.   From these figures, estimate the\n",
      "number of Clipper-tap requests the FBI is expecting.  Publish this figure.\n",
      "Compare it on a per-capita basis with the amount of tapping now known or\n",
      "suspected.  Also estimate how expensive it would be for the FBI to install more\n",
      "Clipper-tapping stations, and how rapidly they could be built and installed ...\n",
      "ie, get the \"plus or minus\" epsilon for the near future.  Might be a mite\n",
      "disturbing for J. Q. Public to know these things.  And despite all the technical\n",
      "details [BTW, thanks to those who've been providing them!], we still don't know\n",
      "1) how the tapping requests will be transmitted and authenticated (though    it\n",
      "isn't too hard to guess a good scheme).  2) how the results will be securely\n",
      "transmitted (Fed Ex the audio tapes?)  3) how privacy will be re-established\n",
      "when an investigation is complete.\n",
      "\n",
      "\n",
      "======== comp.sys.ibm.pc.hardware ========\n",
      "Hello,          I have a 486sx25 ISA machine with Pheonix BIOS.  Currently I\n",
      "have   8 megabytes of RAM installed via eight 1 MG SIMMS on the motherboard: ie.\n",
      "both banks are full, and there is no space for more SIMMS.  I am thinking   of\n",
      "running OS2 on my machine and Possibly Linux with X windows, and I know   that\n",
      "more RAM would be helpful.  However with SIMMS, the only solution I   can see is\n",
      "to sell my 8 Megs for about $180, and by 4 4mg SIMMS for about   $400 used.\n",
      "Apart from the fact that I can't afford the price right now,   the entire\n",
      "process of selling RAM and buying it used probably means that   the machine\n",
      "might be down for a number of days which I would rather   avoid...  So my\n",
      "question is, do the AT RAM boards that plug into a free slot work   well with a\n",
      "486 ISA machine. I have seen some being sold used for about   $90 with 4 Mg with\n",
      "space for another 4Mg's.  If these boards do work, how   do they do it?  Is a\n",
      "device driver needed, or will the BIOS pickup the   extra RAM as it does with\n",
      "the SIMMS on the mother board? I know that the   ISA expansions slots are\n",
      "16-bits and 486 SIMM memory is 32 bits, so   probably all of this is just\n",
      "wishful thinking... However any help is truly   appreciated.  -Eric\n",
      "\n",
      "\n",
      "======== sci.electronics ========\n",
      "Does anybody know if there is a mailing list or newsgroup for Power Systems and\n",
      "related areas?  Thanks,\n",
      "\n",
      "\n",
      "======== comp.sys.mac.hardware ========\n",
      "I have a chance to buy a used PS/2 Appletalk card to create a network with my\n",
      "home machines.  However, the guy who has the card tells me there's a DB-9 or\n",
      "DB-15 (can't remember now) on the back of the card, rather than the 8-pin (or\n",
      "4-pin) mini-din that I expect.  This sounds more like a Thicknet ethernet card.\n",
      "Should there be a transciever on it, like on the Quadras?  What would be a\n",
      "reasonable price to expect to pay for one of these cards, keeping in mind that\n",
      "it's Micro-Channel Architecture, which means take your best guess and double it.\n",
      "Email replies would be appreciated, to here or to rrr@ideas.com Thanks. [RICHR]\n",
      "\n",
      "\n",
      "======== alt.atheism ========\n",
      "  See, we are disagreeing on the definition of moral here.  Earlier, you said\n",
      "that it must be a conscious act.  By your definition, no instinctive behavior\n",
      "pattern could be an act of morality.  You are trying to apply human terms to\n",
      "non-humans.  I think that even if someone is not conscious of an alternative,\n",
      "this does not prevent his behavior from being moral.   I try to show it, but by\n",
      "your definition, it can't be shown.  And, morality can be thought of a large\n",
      "class of princples.  It could be defined in terms of many things--the laws of\n",
      "physics if you wish.  However, it seems silly to talk of a \"moral\" planet\n",
      "because it obeys the laws of phyics.  It is less silly to talk about animals, as\n",
      "they have at least some free will.\n",
      "\n",
      "\n",
      "======== sci.electronics ========\n",
      "Yes, you increase the RPM slip of a \"boxer\" type fan by installing a capacitor\n",
      "in series with the fan's power supply.  The air flow of small 3.5 inch fans can\n",
      "be reduced by about 50% by using a 1 to 4 uF capacitor.  Use a good grade\n",
      "nonpolarized unit with working voltage rating around 250 volts.  Note that some\n",
      "impriical study is usually required to experimentally determine the best size\n",
      "capacitor for a given application.  For DC powered applications, try the Radio\n",
      "Shack 12 volt box fan. It can run and start reliably from as low as about 4.5\n",
      "VDC.  It is exceptionally quiet, but at admittedly low flow.  I wish I knew who\n",
      "made the fans for Radio Shack.\n",
      "\n"
     ]
    }
   ],
   "source": [
    "# Wrap text to 80 characters.\n",
    "wrapper = textwrap.TextWrapper(width=80) \n",
    "\n",
    "# Randomly choose some examples.\n",
    "for i in range(10):\n",
    "    \n",
    "    # Choose a random sample by index.\n",
    "    j = random.choice(range(len(train.data)))\n",
    "    \n",
    "    # Get the text as 'x' and the label integer as 'y'.\n",
    "    x = train.data[j]\n",
    "    y = train.target[j]\n",
    "\n",
    "    # Print out the name of the category and the text.\n",
    "    print('')\n",
    "    print('========', train.target_names[y], '========')\n",
    "    print(wrapper.fill(x))\n",
    "    print('')\n"
   ]
  },
  {
   "attachments": {},
   "cell_type": "markdown",
   "metadata": {},
   "source": [
    "### 2.3. Exploratory Data Analysis and Checking for imbalances in the dataset."
   ]
  },
  {
   "cell_type": "code",
   "execution_count": 6,
   "metadata": {},
   "outputs": [
    {
     "name": "stdout",
     "output_type": "stream",
     "text": [
      "Total number of Data-points in the Train Data: 11314\n",
      "Total number of data-points in the Test Data: 7532\n",
      "Total number of classes in the Data-set, C = 20\n"
     ]
    }
   ],
   "source": [
    "print(f\"Total number of Data-points in the Train Data: {len(train.data)}\")\n",
    "print(f\"Total number of data-points in the Test Data: {len(test.data)}\")\n",
    "print(f\"Total number of classes in the Data-set, C = {len(np.unique(np.array(train.target)))}\")"
   ]
  },
  {
   "cell_type": "code",
   "execution_count": 7,
   "metadata": {},
   "outputs": [
    {
     "data": {
      "text/plain": [
       "Text(0, 0.5, '# of Training Samples')"
      ]
     },
     "execution_count": 7,
     "metadata": {},
     "output_type": "execute_result"
    },
    {
     "data": {
      "image/png": "[encoded data removed]",
      "text/plain": [
       "<Figure size 1000x500 with 1 Axes>"
      ]
     },
     "metadata": {},
     "output_type": "display_data"
    }
   ],
   "source": [
    "\n",
    "sns.set(style='darkgrid')\n",
    "\n",
    "# Increase the plot size and font size.\n",
    "sns.set(font_scale=1.5)\n",
    "plt.rcParams[\"figure.figsize\"] = (10,5)\n",
    "\n",
    "\n",
    "# Plot the number of tokens of each length.\n",
    "sns.countplot(x=train.target)\n",
    "plt.title('Class Distribution')\n",
    "plt.xlabel('Category')\n",
    "plt.ylabel('# of Training Samples')\n"
   ]
  },
  {
   "attachments": {},
   "cell_type": "markdown",
   "metadata": {},
   "source": [
    "Except class 19, which corresponds to 'talk.religion.misc', every other class is well balanced."
   ]
  },
  {
   "cell_type": "code",
   "execution_count": 8,
   "metadata": {},
   "outputs": [
    {
     "data": {
      "text/plain": [
       "'talk.religion.misc'"
      ]
     },
     "execution_count": 8,
     "metadata": {},
     "output_type": "execute_result"
    }
   ],
   "source": [
    "train.target_names[19]"
   ]
  },
  {
   "attachments": {},
   "cell_type": "markdown",
   "metadata": {},
   "source": [
    "## S3. Tokenization using BertTokenizer."
   ]
  },
  {
   "attachments": {},
   "cell_type": "markdown",
   "metadata": {},
   "source": [
    "### 3.1 Loading the BertTokenizer."
   ]
  },
  {
   "attachments": {},
   "cell_type": "markdown",
   "metadata": {},
   "source": [
    "To feed our text to BERT, it must be split into tokens, and then these tokens must be mapped to their index in the tokenizer vocabulary. The tokenization must be performed by the tokenizer included with BERT--the below cell will download this for us. We'll be using the \"uncased\" version here."
   ]
  },
  {
   "cell_type": "code",
   "execution_count": 9,
   "metadata": {},
   "outputs": [
    {
     "name": "stdout",
     "output_type": "stream",
     "text": [
      "Loading BERT tokenizer...\n"
     ]
    }
   ],
   "source": [
    "# Load the BERT tokenizer.\n",
    "print('Loading BERT tokenizer...')\n",
    "tokenizer = BertTokenizer.from_pretrained('bert-base-uncased', do_lower_case=True)"
   ]
  },
  {
   "cell_type": "code",
   "execution_count": 10,
   "metadata": {},
   "outputs": [
    {
     "name": "stdout",
     "output_type": "stream",
     "text": [
      " Original:  I was wondering if anyone out there could enlighten me on this car I saw\n",
      "the other day. It was a 2-door sports car, looked to be from the late 60s/\n",
      "early 70s. It was called a Bricklin. The doors were really small. In addition,\n",
      "the front bumper was separate from the rest of the body. This is \n",
      "all I know. If anyone can tellme a model name, engine specs, years\n",
      "of production, where this car is made, history, or whatever info you\n",
      "have on this funky looking car, please e-mail.\n",
      "\n",
      "Tokenized:  ['i', 'was', 'wondering', 'if', 'anyone', 'out', 'there', 'could', 'en', '##light', '##en', 'me', 'on', 'this', 'car', 'i', 'saw', 'the', 'other', 'day', '.', 'it', 'was', 'a', '2', '-', 'door', 'sports', 'car', ',', 'looked', 'to', 'be', 'from', 'the', 'late', '60s', '/', 'early', '70s', '.', 'it', 'was', 'called', 'a', 'brick', '##lin', '.', 'the', 'doors', 'were', 'really', 'small', '.', 'in', 'addition', ',', 'the', 'front', 'bumper', 'was', 'separate', 'from', 'the', 'rest', 'of', 'the', 'body', '.', 'this', 'is', 'all', 'i', 'know', '.', 'if', 'anyone', 'can', 'tell', '##me', 'a', 'model', 'name', ',', 'engine', 'spec', '##s', ',', 'years', 'of', 'production', ',', 'where', 'this', 'car', 'is', 'made', ',', 'history', ',', 'or', 'whatever', 'info', 'you', 'have', 'on', 'this', 'funky', 'looking', 'car', ',', 'please', 'e', '-', 'mail', '.']\n",
      "\n",
      "Token IDs:  [1045, 2001, 6603, 2065, 3087, 2041, 2045, 2071, 4372, 7138, 2368, 2033, 2006, 2023, 2482, 1045, 2387, 1996, 2060, 2154, 1012, 2009, 2001, 1037, 1016, 1011, 2341, 2998, 2482, 1010, 2246, 2000, 2022, 2013, 1996, 2397, 20341, 1013, 2220, 17549, 1012, 2009, 2001, 2170, 1037, 5318, 4115, 1012, 1996, 4303, 2020, 2428, 2235, 1012, 1999, 2804, 1010, 1996, 2392, 21519, 2001, 3584, 2013, 1996, 2717, 1997, 1996, 2303, 1012, 2023, 2003, 2035, 1045, 2113, 1012, 2065, 3087, 2064, 2425, 4168, 1037, 2944, 2171, 1010, 3194, 28699, 2015, 1010, 2086, 1997, 2537, 1010, 2073, 2023, 2482, 2003, 2081, 1010, 2381, 1010, 2030, 3649, 18558, 2017, 2031, 2006, 2023, 24151, 2559, 2482, 1010, 3531, 1041, 1011, 5653, 1012]\n"
     ]
    }
   ],
   "source": [
    "# Sample Toeknization Example.\n",
    "# Print the original sentence.\n",
    "print(' Original: ', train.data[0])\n",
    "print()\n",
    "\n",
    "\n",
    "# Print the sentence split into tokens.\n",
    "print('Tokenized: ', tokenizer.tokenize(train.data[0]))\n",
    "print()\n",
    "\n",
    "# Print the sentence mapped to token ids.\n",
    "print('Token IDs: ', tokenizer.convert_tokens_to_ids(tokenizer.tokenize(train.data[0])))"
   ]
  },
  {
   "cell_type": "code",
   "execution_count": 11,
   "metadata": {},
   "outputs": [
    {
     "name": "stdout",
     "output_type": "stream",
     "text": [
      " Original:  475\n",
      "Tokenized:  116\n",
      "Token IDs:  116\n"
     ]
    }
   ],
   "source": [
    "print(' Original: ', len(list(train.data[0])))\n",
    "\n",
    "# Print the sentence split into tokens.\n",
    "print('Tokenized: ', len(tokenizer.tokenize(train.data[0])))\n",
    "\n",
    "# Print the sentence mapped to token ids.\n",
    "print('Token IDs: ', len(tokenizer.convert_tokens_to_ids(tokenizer.tokenize(train.data[0]))))"
   ]
  },
  {
   "attachments": {},
   "cell_type": "markdown",
   "metadata": {},
   "source": [
    "### 3.2. Tokenize All Samples\n",
    "\n",
    "The tokenizer.encode function combines multiple steps for us:\n",
    "\n",
    "* Split the sentence into tokens.\n",
    "* Add the special [CLS] and [SEP] tokens.\n",
    "* Map the tokens to their IDs.\n",
    "\n",
    "In order to explore the distribution of sequence lengths, we will not perform any truncation here. Unfortunately, this results in the tokenizer spitting out a warning for every sample that's longer than 512 tokens. We'll just have to ignore those for now!"
   ]
  },
  {
   "cell_type": "code",
   "execution_count": 12,
   "metadata": {},
   "outputs": [
    {
     "name": "stderr",
     "output_type": "stream",
     "text": [
      "Token indices sequence length is longer than the specified maximum sequence length for this model (604 > 512). Running this sequence through the model will result in indexing errors\n"
     ]
    },
    {
     "name": "stdout",
     "output_type": "stream",
     "text": [
      "Tokenizing the input sentences in train data (11314 examples)\n",
      "Tokenization Process Completed.\n",
      "Tokenized 11314 sentences from the Train Data!\n"
     ]
    }
   ],
   "source": [
    "# Tokenize all of the sentences and map the tokens to thier word IDs.\n",
    "input_ids = []\n",
    "\n",
    "# Record the length of each sequence (in terms of BERT tokens).\n",
    "lengths = []\n",
    "\n",
    "print('Tokenizing the input sentences in train data (11314 examples)')\n",
    "\n",
    "# For every sentence...\n",
    "for sentence in train.data:\n",
    "\n",
    "    # `encode` will:\n",
    "    #   (1) Tokenize the sentence.\n",
    "    #   (2) Prepend the `[CLS]` token to the start.\n",
    "    #   (3) Append the `[SEP]` token to the end.\n",
    "    #   (4) Map tokens to their IDs.\n",
    "    encoded_sent = tokenizer.encode(\n",
    "                        sentence,                      # Sentence to encode.\n",
    "                        add_special_tokens = True, # Add '[CLS]' and '[SEP]'\n",
    "                        #max_length = 512,          # Truncate all sentences.                        \n",
    "                        #return_tensors = 'pt',     # Return pytorch tensors.\n",
    "                   )\n",
    "    \n",
    "    # Add the encoded sentence to the list.\n",
    "    input_ids.append(encoded_sent)\n",
    "\n",
    "    # Record the non-truncated length.\n",
    "    lengths.append(len(encoded_sent))\n",
    "\n",
    "print('Tokenization Process Completed.')\n",
    "print(f\"Tokenized {len(train.data)} sentences from the Train Data!\")"
   ]
  },
  {
   "attachments": {},
   "cell_type": "markdown",
   "metadata": {},
   "source": [
    "### 3.3. Understanding the distribution of sentence lengths in the Train Data."
   ]
  },
  {
   "cell_type": "code",
   "execution_count": 15,
   "metadata": {},
   "outputs": [
    {
     "name": "stdout",
     "output_type": "stream",
     "text": [
      "Min length: 2 tokens\n",
      "Max length: 52886 tokens\n",
      "Median length: 124.0 tokens\n"
     ]
    },
    {
     "data": {
      "text/plain": [
       "8213"
      ]
     },
     "execution_count": 15,
     "metadata": {},
     "output_type": "execute_result"
    }
   ],
   "source": [
    "max_index, max_value = max(enumerate(lengths), key=lambda pair: pair[1])\n",
    "print(f\"Min length: {min(lengths)} tokens\")\n",
    "print(f'Max length: {max(lengths)} tokens')\n",
    "print(f'Median length: {np.median(lengths)} tokens')\n",
    "max_index"
   ]
  },
  {
   "attachments": {},
   "cell_type": "markdown",
   "metadata": {},
   "source": [
    "### 3.4. Analysing the percentage of data over the 512 limit"
   ]
  },
  {
   "cell_type": "code",
   "execution_count": 14,
   "metadata": {},
   "outputs": [
    {
     "name": "stdout",
     "output_type": "stream",
     "text": [
      "1,015 of 11,314 comments will be truncated (8.97%)\n"
     ]
    }
   ],
   "source": [
    "num_over = 0\n",
    "\n",
    "# For all of the length values...\n",
    "for length in lengths:\n",
    "    # Tally if it's over 512.\n",
    "    if length > 512:\n",
    "        num_over += 1\n",
    "\n",
    "print('{:,} of {:,} comments will be truncated ({:.2%})'.format(num_over, len(lengths), float(num_over) / float(len(lengths))))"
   ]
  },
  {
   "attachments": {},
   "cell_type": "markdown",
   "metadata": {},
   "source": [
    "The BERT-base-uncased model indeed uses an embedding layer with weights of dimension 30522 x 768 for the wordpiece vocabulary.\n",
    "\n",
    "In BERT, the first embedding layer is known as the token embedding layer, and it maps the input wordpiece IDs to their corresponding embedding vectors. The vocabulary size in BERT-base-uncased is 30522, meaning it can handle up to 30522 different wordpiece tokens.\n",
    "\n",
    "Each wordpiece token in the vocabulary is associated with a 768-dimensional embedding vector. Therefore, the embedding layer in BERT-base-uncased has weights with dimensions of 30522 x 768, where each row corresponds to the embedding vector of a specific wordpiece token in the vocabulary."
   ]
  },
  {
   "attachments": {},
   "cell_type": "markdown",
   "metadata": {},
   "source": [
    "Before converting text to wordpiece tokens in BERT, there is typically a limit on the maximum number of tokens in a sentence. This limit is often referred to as the \"maximum sequence length\" or MAX_LEN.\n",
    "\n",
    "In BERT, the maximum sequence length is determined based on the architecture and configuration of the specific model being used. The most common maximum sequence length used in BERT models is 512 tokens.\n",
    "\n",
    "If a sentence has more than the maximum sequence length, it needs to be truncated or split into smaller parts to fit within the limit. Truncation involves discarding tokens from the end of the sentence, while splitting involves dividing the sentence into multiple segments or chunks."
   ]
  },
  {
   "attachments": {},
   "cell_type": "markdown",
   "metadata": {},
   "source": [
    "### 3.5. Truncating the longer sentences and Perform Tokenization"
   ]
  },
  {
   "attachments": {},
   "cell_type": "markdown",
   "metadata": {},
   "source": [
    "Given the higher percentage of longer-than-512-tokens samples, I thought it might make sense to try a maximum length of 512 for this example. However, with batch_size = 32 and max_len = 512, I ran into a GPU out-of-memory error on the first iteration of the training loop!\n",
    "\n",
    "After performing some analysis and a number of experiment,\n",
    "\n",
    "* If the combination of your batch_size and max_len are too high, then you can easily run out of memory (even on a Tesla K80 with 12GB!) when fine-tuning BERT-base. For example, with batch_size = 16, a max_len = ~400 is about the limit on a Tesla K80.\n",
    "* Reducing batch_size reduces memory consumption, but at the cost of slower training, and finding the best choice of batch_size appears to be important for accuracy.\n",
    "* Reducing max_len reduces memory consumption and speeds up training, but has a substantial impact on BERT's accuracy on this benchmark."
   ]
  },
  {
   "cell_type": "code",
   "execution_count": null,
   "metadata": {},
   "outputs": [],
   "source": [
    "max_len = 300"
   ]
  },
  {
   "cell_type": "code",
   "execution_count": null,
   "metadata": {},
   "outputs": [],
   "source": [
    "def my_tokenize(comments, max_len):\n",
    "    '''\n",
    "    Tokenize a dataset of comments.\n",
    "\n",
    "    Parameters:\n",
    "      `comments` - List of comments, represented as strings.\n",
    "        `labels` - List of integer labels for the corresponding comments.\n",
    "       `max_len` - Truncate all of the comments down to this length.\n",
    "    \n",
    "    Returns:\n",
    "      `input_ids` - All of the comments represented as lists of token IDs,\n",
    "                    padded out to `max_len`, and cast as a PyTorch tensor.\n",
    "         `labels` - The labels for the corresponding comments, formatted as \n",
    "                    a PyTorch tensor.\n",
    "      `attention_masks` - PyTorch tensor with the same dimensions as\n",
    "                          `input_ids`. For each token, simply indicates whether\n",
    "                           it is padding or not.\n",
    "    '''\n",
    "    # Tokenize all of the sentences and map the tokens to thier word IDs.\n",
    "    input_ids_truncated = []\n",
    "    attention_masks = []\n",
    "\n",
    "    print('Tokenizing {:,} comments...'.format(len(comments)))\n",
    "\n",
    "    # For every comment (\"sentence\")...\n",
    "    for sent in comments:\n",
    "\n",
    "        # Report progress.\n",
    "        if ((len(input_ids_truncated) % 500) == 0):\n",
    "            print('  Tokenized {:,} comments.'.format(len(input_ids_truncated)))\n",
    "\n",
    "        # `encode_plus` will:\n",
    "        #   (1) Tokenize the sentence.\n",
    "        #   (2) Prepend the `[CLS]` token to the start.\n",
    "        #   (3) Append the `[SEP]` token to the end.\n",
    "        #   (4) Map tokens to their IDs.\n",
    "        #   (5) Pad or truncate the sentence to `max_length`\n",
    "        #   (6) Create attention masks for [PAD] tokens.\n",
    "        encoded_dict = tokenizer.encode_plus(\n",
    "                            sent,                      # Sentence to encode.\n",
    "                            add_special_tokens = True, # Add '[CLS]' and '[SEP]'\n",
    "                            max_length = max_len,      # Pad & truncate all sentences.\n",
    "                            pad_to_max_length = True,\n",
    "                            return_attention_mask = True,   # Construct attn. masks.\n",
    "                            return_tensors = 'pt',     # Return pytorch tensors.\n",
    "                    )\n",
    "        \n",
    "        # Add the encoded sentence to the list.    \n",
    "        input_ids_truncated.append(encoded_dict['input_ids'])\n",
    "        \n",
    "        # And its attention mask (simply differentiates padding from non-padding).\n",
    "        attention_masks.append(encoded_dict['attention_mask'])\n",
    "\n",
    "    # Convert the lists into tensors.\n",
    "    input_ids_truncated = torch.cat(input_ids_truncated, dim=0)\n",
    "    attention_masks = torch.cat(attention_masks, dim=0)\n",
    "\n",
    "    print(\"Completed the tokenization process for all the comments passed!\")\n",
    "    return (input_ids_truncated, attention_masks)\n"
   ]
  },
  {
   "cell_type": "code",
   "execution_count": null,
   "metadata": {},
   "outputs": [],
   "source": [
    "# Tokenize our entire training set.\n",
    "(train_input_ids,  \n",
    " train_attention_masks) = my_tokenize(train.data, max_len = max_len)"
   ]
  },
  {
   "attachments": {},
   "cell_type": "markdown",
   "metadata": {},
   "source": [
    "Let's test a sample sentence"
   ]
  },
  {
   "cell_type": "code",
   "execution_count": null,
   "metadata": {},
   "outputs": [],
   "source": [
    "# Print sentence 0, now as a list of IDs.\n",
    "print('Original: ', train.data[0])\n",
    "print()\n",
    "print('Token IDs:', train_input_ids[0])"
   ]
  },
  {
   "attachments": {},
   "cell_type": "markdown",
   "metadata": {},
   "source": [
    "Comparing the lengths of the input tokens before Padding and Truncation and the input tokens after padding and truncation."
   ]
  },
  {
   "cell_type": "code",
   "execution_count": null,
   "metadata": {},
   "outputs": [],
   "source": [
    "for i in range(len(train.data)):\n",
    "    if len(input_ids[i]) < 10:\n",
    "        print(f\"Length of original sentence: {len(train.data[i])}\")\n",
    "        print(f\"Length of input tokens before truncation / Padding: {len(input_ids[i])}\")\n",
    "        print(f\"Length of train input ids after truncation: {len(train_input_ids[i])}\")"
   ]
  },
  {
   "attachments": {},
   "cell_type": "markdown",
   "metadata": {},
   "source": [
    "# Part II - Fine Tuning of BERT\n",
    "---------------------------"
   ]
  },
  {
   "attachments": {},
   "cell_type": "markdown",
   "metadata": {},
   "source": [
    "## S4. Training the Classifier"
   ]
  },
  {
   "attachments": {},
   "cell_type": "markdown",
   "metadata": {},
   "source": [
    "### 4.1. Loading the pre-trained BERT Model"
   ]
  },
  {
   "attachments": {},
   "cell_type": "markdown",
   "metadata": {},
   "source": [
    "Since it is a multi-class classification task, the output layer will be a Softmax Layer."
   ]
  },
  {
   "cell_type": "code",
   "execution_count": null,
   "metadata": {},
   "outputs": [],
   "source": [
    "# linear classification layer on top. \n",
    "model = BertForSequenceClassification.from_pretrained(\n",
    "    \"bert-base-uncased\", # Use the 12-layer BERT model, with an uncased vocab.\n",
    "    num_labels = 20, # For our 20 newsgroups!\n",
    "    output_attentions = False, # Whether the model returns attentions weights.\n",
    "    output_hidden_states = False, # Whether the model returns all hidden-states.\n",
    ")\n",
    "\n",
    "desc = model.to(torch.device(\"cpu\"))\n",
    "\n",
    "# Tell pytorch to run this model on the GPU.\n",
    "# desc = model.cuda()"
   ]
  },
  {
   "attachments": {},
   "cell_type": "markdown",
   "metadata": {},
   "source": [
    "## In the below cell, I've printed out the names and dimensions of the weights for:\n",
    "\n",
    "* The embedding layer.\n",
    "* The first of the twelve transformers.\n",
    "* The output layer."
   ]
  },
  {
   "cell_type": "code",
   "execution_count": null,
   "metadata": {},
   "outputs": [],
   "source": [
    "# Get all of the model's parameters as a list of tuples.\n",
    "params = list(model.named_parameters())\n",
    "\n",
    "print('The BERT model has {:} different named parameters.\\n'.format(len(params)))\n",
    "\n",
    "print('==== Embedding Layer ====\\n')\n",
    "\n",
    "for p in params[0:5]:\n",
    "    print(\"{:<55} {:>12}\".format(p[0], str(tuple(p[1].size()))))\n",
    "\n",
    "print('\\n==== First Transformer ====\\n')\n",
    "\n",
    "for p in params[5:21]:\n",
    "    print(\"{:<55} {:>12}\".format(p[0], str(tuple(p[1].size()))))\n",
    "\n",
    "print('\\n==== Output Layer ====\\n')\n",
    "\n",
    "for p in params[-4:]:\n",
    "    print(\"{:<55} {:>12}\".format(p[0], str(tuple(p[1].size()))))"
   ]
  },
  {
   "attachments": {},
   "cell_type": "markdown",
   "metadata": {},
   "source": [
    "We can see that for the previous example, the output layer had 2 x 768 weights and 1 bias term. \n",
    "Whereas for the Multi-class example, we can see the O/P layer has 20 x 768 weights and 20 bias terms."
   ]
  },
  {
   "cell_type": "markdown",
   "metadata": {},
   "source": [
    "### 4.2. Training and validation Split"
   ]
  },
  {
   "cell_type": "code",
   "execution_count": null,
   "metadata": {},
   "outputs": [],
   "source": [
    "train_labels = torch.tensor(train.target)\n",
    "train_labels = train_labels.to(torch.long)\n",
    "\n",
    "\n",
    "# Use 90% for training and 10% for validation.\n",
    "train_inputs, validation_inputs, train_labels, validation_labels = train_test_split(train_input_ids, train_labels,\n",
    "                                                            random_state=2018, test_size=0.1)\n",
    "# Do the same for the masks.\n",
    "train_masks, validation_masks, _, _ = train_test_split(train_attention_masks, torch.tensor(train.target),\n",
    "                                             random_state=2018, test_size=0.1)\n",
    "\n",
    "print(f\"Total number of Training Samples: {len(train_inputs)}\")\n",
    "print(f\"Total number of Validation Samples: {len(validation_inputs)}\")"
   ]
  },
  {
   "attachments": {},
   "cell_type": "markdown",
   "metadata": {},
   "source": [
    "### 4.3. Batch Size and Data-loaders"
   ]
  },
  {
   "cell_type": "markdown",
   "metadata": {},
   "source": [
    "### We'll also create an iterator for our dataset using the torch DataLoader class. This helps save on memory during training because, unlike a for loop, with an iterator the entire dataset does not need to be loaded into memory."
   ]
  },
  {
   "cell_type": "code",
   "execution_count": null,
   "metadata": {},
   "outputs": [],
   "source": [
    "# The DataLoader needs to know our batch size for training, so we specify it\n",
    "# here.\n",
    "# For fine-tuning BERT on a specific task, the authors recommend a batch size of\n",
    "# 16 or 32.\n",
    "\n",
    "batch_size = 16\n",
    "\n",
    "# Create the DataLoader for our training set.\n",
    "train_data = TensorDataset(train_inputs, train_masks, train_labels)\n",
    "train_sampler = RandomSampler(train_data)\n",
    "train_dataloader = DataLoader(train_data, sampler=train_sampler, batch_size=batch_size)\n",
    "\n",
    "# Create the DataLoader for our validation set.\n",
    "validation_data = TensorDataset(validation_inputs, validation_masks, validation_labels)\n",
    "validation_sampler = SequentialSampler(validation_data)\n",
    "validation_dataloader = DataLoader(validation_data, sampler=validation_sampler, batch_size=batch_size)\n"
   ]
  },
  {
   "attachments": {},
   "cell_type": "markdown",
   "metadata": {},
   "source": [
    "### 4.4. Optimizer, Epochs and Learning Rate Scheduler"
   ]
  },
  {
   "cell_type": "code",
   "execution_count": null,
   "metadata": {},
   "outputs": [],
   "source": [
    "optimizer = torch.optim.AdamW(model.parameters(),\n",
    "                  lr = 2e-5, # args.learning_rate - default is 5e-5, our notebook had 2e-5\n",
    "                  eps = 1e-8 # args.adam_epsilon  - default is 1e-8.\n",
    "                )\n",
    "\n",
    "# Number of training epochs (authors recommend between 2 and 4)\n",
    "epochs = 4\n",
    "\n",
    "# Total number of training steps is number of batches * number of epochs.\n",
    "total_steps = len(train_dataloader) * epochs\n",
    "\n",
    "# Create the learning rate scheduler.\n",
    "scheduler = get_linear_schedule_with_warmup(optimizer,\n",
    "                                            num_warmup_steps = 0, # Default value in run_glue.py\n",
    "                                            num_training_steps = total_steps)\n"
   ]
  },
  {
   "cell_type": "markdown",
   "metadata": {},
   "source": [
    "### 4.5 Helper Functions"
   ]
  },
  {
   "cell_type": "code",
   "execution_count": null,
   "metadata": {},
   "outputs": [],
   "source": [
    "# Function to calculate the accuracy of our predictions vs labels\n",
    "def flat_accuracy(preds, labels):\n",
    "    pred_flat = np.argmax(preds, axis=1).flatten()\n",
    "    labels_flat = labels.flatten()\n",
    "    return np.sum(pred_flat == labels_flat) / len(labels_flat)"
   ]
  },
  {
   "cell_type": "code",
   "execution_count": null,
   "metadata": {},
   "outputs": [],
   "source": [
    "def format_time(elapsed):\n",
    "    '''\n",
    "    Takes a time in seconds and returns a string hh:mm:ss\n",
    "    '''\n",
    "    # Round to the nearest second.\n",
    "    elapsed_rounded = int(round((elapsed)))\n",
    "    \n",
    "    # Format as hh:mm:ss\n",
    "    return str(datetime.timedelta(seconds=elapsed_rounded))"
   ]
  },
  {
   "attachments": {},
   "cell_type": "markdown",
   "metadata": {},
   "source": [
    "### 4.6. Training Loop!"
   ]
  },
  {
   "cell_type": "code",
   "execution_count": null,
   "metadata": {},
   "outputs": [],
   "source": [
    "import random\n",
    "import numpy as np\n",
    "\n",
    "# This training code is based on the `run_glue.py` script here:\n",
    "# https://github.com/huggingface/transformers/blob/5bfcd0485ece086ebcbed2d008813037968a9e58/examples/run_glue.py#L128\n",
    "\n",
    "# Set the seed value all over the place to make this reproducible.\n",
    "seed_val = 42\n",
    "\n",
    "random.seed(seed_val)\n",
    "np.random.seed(seed_val)\n",
    "torch.manual_seed(seed_val)\n",
    "torch.cuda.manual_seed_all(seed_val)\n",
    "\n",
    "# We'll store a number of quantities such as training and validation loss, \n",
    "# validation accuracy, and timings.\n",
    "training_stats = []\n",
    "\n",
    "# For each epoch...\n",
    "for epoch_i in range(0, epochs):\n",
    "    \n",
    "    # ========================================\n",
    "    #               Training\n",
    "    # ========================================\n",
    "    \n",
    "    # Perform one full pass over the training set.\n",
    "\n",
    "    print(\"\")\n",
    "    print('======== Epoch {:} / {:} ========'.format(epoch_i + 1, epochs))\n",
    "    print('Training...')\n",
    "\n",
    "    # Measure how long the training epoch takes.\n",
    "    t0 = time.time()\n",
    "\n",
    "    # Reset the total loss for this epoch.\n",
    "    total_train_loss = 0\n",
    "\n",
    "    # Put the model into training mode. Don't be mislead--the call to \n",
    "    # `train` just changes the *mode*, it doesn't *perform* the training.\n",
    "    # `dropout` and `batchnorm` layers behave differently during training\n",
    "    # vs. test (source: https://stackoverflow.com/questions/51433378/what-does-model-train-do-in-pytorch)\n",
    "    model.train()\n",
    "\n",
    "    # For each batch of training data...\n",
    "    for step, batch in enumerate(train_dataloader):\n",
    "\n",
    "        # Progress update every 50 batches.\n",
    "        if step % 50 == 0 and not step == 0:\n",
    "            # Calculate elapsed time in minutes.\n",
    "            elapsed = format_time(time.time() - t0)\n",
    "            \n",
    "            # Report progress.\n",
    "            print('  Batch {:>5,}  of  {:>5,}.    Elapsed: {:}.'.format(step, len(train_dataloader), elapsed))\n",
    "\n",
    "        # Unpack this training batch from our dataloader. \n",
    "        #\n",
    "        # As we unpack the batch, we'll also copy each tensor to the GPU using the \n",
    "        # `to` method.\n",
    "        #\n",
    "        # `batch` contains three pytorch tensors:\n",
    "        #   [0]: input ids \n",
    "        #   [1]: attention masks\n",
    "        #   [2]: labels \n",
    "        b_input_ids = batch[0].to(device)\n",
    "        b_input_mask = batch[1].to(device)\n",
    "        b_labels = batch[2].to(device)\n",
    "\n",
    "        # Always clear any previously calculated gradients before performing a\n",
    "        # backward pass. PyTorch doesn't do this automatically because \n",
    "        # accumulating the gradients is \"convenient while training RNNs\". \n",
    "        # (source: https://stackoverflow.com/questions/48001598/why-do-we-need-to-call-zero-grad-in-pytorch)\n",
    "        model.zero_grad()        \n",
    "\n",
    "        # Perform a forward pass (evaluate the model on this training batch).\n",
    "        # The documentation for this `model` function is here: \n",
    "        # https://huggingface.co/transformers/v2.2.0/model_doc/bert.html#transformers.BertForSequenceClassification\n",
    "        # It returns different numbers of parameters depending on what arguments\n",
    "        # arge given and what flags are set. For our useage here, it returns\n",
    "        # the loss (because we provided labels) and the \"logits\"--the model\n",
    "        # outputs prior to activation.\n",
    "        result = model(b_input_ids, \n",
    "                       token_type_ids = None, \n",
    "                       attention_mask = b_input_mask, \n",
    "                       labels = b_labels,\n",
    "                       return_dict = True)\n",
    "        \n",
    "        loss = result.loss\n",
    "\n",
    "        # Accumulate the training loss over all of the batches so that we can\n",
    "        # calculate the average loss at the end. `loss` is a Tensor containing a\n",
    "        # single value; the `.item()` function just returns the Python value \n",
    "        # from the tensor.\n",
    "        total_train_loss += loss.item()\n",
    "\n",
    "        # Perform a backward pass to calculate the gradients.\n",
    "        loss.backward()\n",
    "\n",
    "        # Clip the norm of the gradients to 1.0.\n",
    "        # This is to help prevent the \"exploding gradients\" problem.\n",
    "        torch.nn.utils.clip_grad_norm_(model.parameters(), 1.0)\n",
    "\n",
    "        # Update parameters and take a step using the computed gradient.\n",
    "        # The optimizer dictates the \"update rule\"--how the parameters are\n",
    "        # modified based on their gradients, the learning rate, etc.\n",
    "        optimizer.step()\n",
    "\n",
    "        # Update the learning rate.\n",
    "        scheduler.step()\n",
    "\n",
    "    # Calculate the average loss over all of the batches.\n",
    "    avg_train_loss = total_train_loss / len(train_dataloader)            \n",
    "    \n",
    "    # Measure how long this epoch took.\n",
    "    training_time = format_time(time.time() - t0)\n",
    "\n",
    "    print(\"\")\n",
    "    print(\"  Average training loss: {0:.2f}\".format(avg_train_loss))\n",
    "    print(\"  Training epcoh took: {:}\".format(training_time))\n",
    "        \n",
    "    # ========================================\n",
    "    #               Validation\n",
    "    # ========================================\n",
    "    # After the completion of each training epoch, measure our performance on\n",
    "    # our validation set.\n",
    "\n",
    "    print(\"\")\n",
    "    print(\"Running Validation...\")\n",
    "\n",
    "    t0 = time.time()\n",
    "\n",
    "    # Put the model in evaluation mode--the dropout layers behave differently\n",
    "    # during evaluation.\n",
    "    model.eval()\n",
    "\n",
    "    # Tracking variables \n",
    "    total_eval_accuracy = 0\n",
    "    total_eval_loss = 0\n",
    "    nb_eval_steps = 0\n",
    "\n",
    "    # Evaluate data for one epoch\n",
    "    for batch in validation_dataloader:\n",
    "        \n",
    "        # Unpack this training batch from our dataloader. \n",
    "        #\n",
    "        # As we unpack the batch, we'll also copy each tensor to the GPU using \n",
    "        # the `to` method.\n",
    "        #\n",
    "        # `batch` contains three pytorch tensors:\n",
    "        #   [0]: input ids \n",
    "        #   [1]: attention masks\n",
    "        #   [2]: labels \n",
    "        b_input_ids = batch[0].to(device)\n",
    "        b_input_mask = batch[1].to(device)\n",
    "        b_labels = batch[2].to(device)\n",
    "        \n",
    "        # Tell pytorch not to bother with constructing the compute graph during\n",
    "        # the forward pass, since this is only needed for backprop (training).\n",
    "        with torch.no_grad():        \n",
    "\n",
    "            # Forward pass, calculate logit predictions.\n",
    "            # token_type_ids is the same as the \"segment ids\", which \n",
    "            # differentiates sentence 1 and 2 in 2-sentence tasks.\n",
    "            # The documentation for this `model` function is here: \n",
    "            # https://huggingface.co/transformers/v2.2.0/model_doc/bert.html#transformers.BertForSequenceClassification\n",
    "            # Get the \"logits\" output by the model. The \"logits\" are the output\n",
    "            # values prior to applying an activation function like the softmax.\n",
    "            result = model(b_input_ids, \n",
    "                           token_type_ids = None, \n",
    "                           attention_mask = b_input_mask,\n",
    "                           labels = b_labels,\n",
    "                           return_dict = True)\n",
    "            \n",
    "            loss = result.loss\n",
    "            logits = result.logits\n",
    "            \n",
    "        # Accumulate the validation loss.\n",
    "        total_eval_loss += loss.item()\n",
    "\n",
    "        # Move logits and labels to CPU\n",
    "        logits = logits.detach().cpu().numpy()\n",
    "        label_ids = b_labels.to('cpu').numpy()\n",
    "\n",
    "        # Calculate the accuracy for this batch of test sentences, and\n",
    "        # accumulate it over all batches.\n",
    "        total_eval_accuracy += flat_accuracy(logits, label_ids)\n",
    "        \n",
    "\n",
    "    # Report the final accuracy for this validation run.\n",
    "    avg_val_accuracy = total_eval_accuracy / len(validation_dataloader)\n",
    "    print(\"  Accuracy: {0:.2f}\".format(avg_val_accuracy))\n",
    "\n",
    "    # Calculate the average loss over all of the batches.\n",
    "    avg_val_loss = total_eval_loss / len(validation_dataloader)\n",
    "    \n",
    "    validation_time = format_time(time.time() - t0)\n",
    "    print(\"  Validation Loss: {0:.2f}\".format(avg_val_loss))\n",
    "    print(\"  Validation took: {:}\".format(validation_time))\n",
    "\n",
    "    # Record all statistics from this epoch.\n",
    "    training_stats.append(\n",
    "        {\n",
    "            'epoch': epoch_i + 1,\n",
    "            'Training Loss': avg_train_loss,\n",
    "            'Valid. Loss': avg_val_loss,\n",
    "            'Valid. Accur.': avg_val_accuracy,\n",
    "            'Training Time': training_time,\n",
    "            'Validation Time': validation_time\n",
    "        }\n",
    "    )\n",
    "\n",
    "print(\"\")\n",
    "print(\"Training complete!\")"
   ]
  },
  {
   "attachments": {},
   "cell_type": "markdown",
   "metadata": {},
   "source": [
    "### 4.6. Visualization of Train and Validation Loss Vs. Epochs"
   ]
  },
  {
   "cell_type": "code",
   "execution_count": null,
   "metadata": {},
   "outputs": [],
   "source": [
    "import matplotlib.pyplot as plt\n",
    "% matplotlib inline\n",
    "\n",
    "import seaborn as sns\n",
    "\n",
    "# Use plot styling from seaborn.\n",
    "sns.set(style='darkgrid')\n",
    "\n",
    "# Increase the plot size and font size.\n",
    "sns.set(font_scale=1.5)\n",
    "plt.rcParams[\"figure.figsize\"] = (12,6)\n",
    "\n",
    "# Plot the learning curve.\n",
    "plt.plot(df_stats['Training Loss'], 'b-o', label=\"Training\")\n",
    "plt.plot(df_stats['Valid. Loss'], 'g-o', label=\"Validation\")\n",
    "\n",
    "# Label the plot.\n",
    "plt.title(\"Training & Validation loss\")\n",
    "plt.xlabel(\"Epoch\")\n",
    "plt.ylabel(\"Loss\")\n",
    "plt.legend()\n",
    "plt.xticks([1, 2, 3, 4])\n",
    "\n",
    "plt.show()"
   ]
  },
  {
   "cell_type": "code",
   "execution_count": null,
   "metadata": {},
   "outputs": [],
   "source": []
  }
 ],
 "metadata": {
  "kernelspec": {
   "display_name": "ilabs",
   "language": "python",
   "name": "python3"
  },
  "language_info": {
   "codemirror_mode": {
    "name": "ipython",
    "version": 3
   },
   "file_extension": ".py",
   "mimetype": "text/x-python",
   "name": "python",
   "nbconvert_exporter": "python",
   "pygments_lexer": "ipython3",
   "version": "3.11.3"
  },
  "orig_nbformat": 4
 },
 "nbformat": 4,
 "nbformat_minor": 2
}
