{
 "cells": [
  {
   "attachments": {},
   "cell_type": "markdown",
   "metadata": {},
   "source": [
    "### Contributor: Sudesh Kumar Santhosh Kumar\n",
    "- Email: sudeshkumar.santhoshkumar@lexisnexis.com\n",
    "- Date: 21st June, 2023\n",
    "\n",
    "Description:  This Notebook will show you how to fine-tune BERT for multi-class text classification tasks, meaning that there are more than just two classes in the dataset. We'll be using the 20 Newsgroups dataset, which is a test classification dataset with 20 different classes. "
   ]
  },
  {
   "attachments": {},
   "cell_type": "markdown",
   "metadata": {},
   "source": [
    "**Multi-Label vs. Multi-Class**\n",
    "\n",
    "It is important to distinguish between \"Multi-Class\" and \"Multi-Label\" as they pertain to different types of tasks and are handled differently.\n",
    "\n",
    "In \"Multi-Label\" classification, documents can be assigned multiple labels. This means that a document may have several appropriate tags or categories associated with it. For instance, consider a system that suggests tags for documents where multiple tags may be relevant.\n",
    "\n",
    "On the other hand, \"Multi-Class\" classification applies when each document is assigned only one category. If there are only two possible categories, it is known as \"Binary\" classification. If there are more than two categories, it is referred to as \"Multi-Class\" classification. In this scenario, each document is assigned to a single category, without the possibility of multiple labels.\n",
    "\n",
    "By understanding these distinctions, we can appropriately handle and address the requirements of each type of classification task."
   ]
  },
  {
   "attachments": {},
   "cell_type": "markdown",
   "metadata": {},
   "source": [
    "# Part I - Installation, Loading Dataset and Tokenization\n",
    "---------------------------------"
   ]
  },
  {
   "attachments": {},
   "cell_type": "markdown",
   "metadata": {},
   "source": [
    "## S1. Setting up the Notebook\n"
   ]
  },
  {
   "attachments": {},
   "cell_type": "markdown",
   "metadata": {},
   "source": [
    "### 1.1. Basic Pre-requisites and Installations"
   ]
  },
  {
   "attachments": {},
   "cell_type": "markdown",
   "metadata": {},
   "source": [
    "If you're using this notebook on Google Colab, Don't forget to uncomment the following cell to install transformers library into the notebook. If you're using this notebook on your local machine through VS Code or Jupyter notebook, you need to do a \"pip install -r requirements.txt\" before running the following set of code blocks."
   ]
  },
  {
   "cell_type": "code",
   "execution_count": 1,
   "metadata": {},
   "outputs": [],
   "source": [
    "# !pip install transformers"
   ]
  },
  {
   "attachments": {},
   "cell_type": "markdown",
   "metadata": {},
   "source": [
    "### 1.2. Importing all necessary libraries"
   ]
  },
  {
   "cell_type": "code",
   "execution_count": 2,
   "metadata": {},
   "outputs": [],
   "source": [
    "import textwrap\n",
    "import random\n",
    "import csv\n",
    "import os\n",
    "import time\n",
    "import datetime\n",
    "\n",
    "import matplotlib.pyplot as plt\n",
    "import seaborn as sns\n",
    "import numpy as np\n",
    "import pandas as pd\n",
    "\n",
    "import torch\n",
    "from torch.utils.data import TensorDataset, random_split\n",
    "from torch.utils.data import DataLoader, RandomSampler, SequentialSampler\n",
    "from transformers import get_linear_schedule_with_warmup\n",
    "from transformers import BertTokenizer\n",
    "from transformers import BertForSequenceClassification, AdamW, BertConfig\n",
    "\n",
    "from sklearn.datasets import fetch_20newsgroups\n",
    "from sklearn.feature_extraction.text import TfidfVectorizer\n",
    "from sklearn.naive_bayes import MultinomialNB\n",
    "from sklearn import metrics\n",
    "\n",
    "\n"
   ]
  },
  {
   "attachments": {},
   "cell_type": "markdown",
   "metadata": {},
   "source": [
    "### 1.3. Connecting to GPU "
   ]
  },
  {
   "cell_type": "code",
   "execution_count": 3,
   "metadata": {},
   "outputs": [
    {
     "name": "stdout",
     "output_type": "stream",
     "text": [
      "No GPU available, using the CPU!\n"
     ]
    }
   ],
   "source": [
    "# Checking if there is a GPU Available.\n",
    "if torch.cuda.is_available():\n",
    "\n",
    "    device = torch.device((\"cuda\"))\n",
    "    print(f\"There are {torch.cuda.device_count()} available.\")\n",
    "    print(f\"We will use the GPU: {torch.cuda.get_device_name(0)}\")\n",
    "\n",
    "else:\n",
    "    print(\"No GPU available, using the CPU!\")\n",
    "    device = torch.device(\"cpu\")"
   ]
  },
  {
   "attachments": {},
   "cell_type": "markdown",
   "metadata": {},
   "source": [
    "## S2. Load Dataset from scikit-learn and Inspect it"
   ]
  },
  {
   "cell_type": "markdown",
   "metadata": {},
   "source": [
    "### 2.1. import dataset from scikit-learn"
   ]
  },
  {
   "attachments": {},
   "cell_type": "markdown",
   "metadata": {},
   "source": [
    "The 20 Newsgroups dataset is old (from the 1990s?), and contains what today we would probably call \"forum posts\", coming from 20 different subtopics. \n",
    "\n",
    "The 20 categories (or) classes are as follows:\n",
    "\n",
    "* comp.graphics\n",
    "* comp.os.ms-windows.misc\n",
    "* comp.sys.ibm.pc.hardware\n",
    "* comp.sys.mac.hardware\n",
    "* comp.windows.x\t\n",
    "* rec.autos\n",
    "* rec.motorcycles\n",
    "* rec.sport.baseball\n",
    "* rec.sport.hockey\t\n",
    "* sci.crypt\n",
    "* sci.electronics\n",
    "* sci.med\n",
    "* sci.space\n",
    "* misc.forsale\t\n",
    "* talk.politics.misc\n",
    "* talk.politics.guns\n",
    "* talk.politics.mideast\t\n",
    "* talk.religion.misc\n",
    "* alt.atheism\n",
    "* soc.religion.christian\n",
    "\n",
    "Scikit-learn includes some nice helper functions for retrieving the 20 Newsgroups dataset (from their example [here](https://scikit-learn.org/0.19/datasets/twenty_newsgroups.html)). We'll use them below to retrieve the dataset.\n"
   ]
  },
  {
   "cell_type": "code",
   "execution_count": 4,
   "metadata": {},
   "outputs": [],
   "source": [
    "# Removing the meta-data from the train and test subsets.\n",
    "train = fetch_20newsgroups(subset='train',\n",
    "                           remove=('headers', 'footers', 'quotes'))\n",
    "\n",
    "test = fetch_20newsgroups(subset='test',\n",
    "                           remove=('headers', 'footers', 'quotes'))"
   ]
  },
  {
   "attachments": {},
   "cell_type": "markdown",
   "metadata": {},
   "source": [
    "### 2.2. Inspecting the data"
   ]
  },
  {
   "cell_type": "code",
   "execution_count": 5,
   "metadata": {},
   "outputs": [
    {
     "name": "stdout",
     "output_type": "stream",
     "text": [
      "\n",
      "======== sci.space ========\n",
      "of   A transporter operator!?!?  That better be one important transport.\n",
      "Usually   it is a nameless ensign who does the job.  For such a guest appearance\n",
      "I would   have expected a more visible/meaningful role.  ---\n",
      "---------------------------------------------------------------------\n",
      "\n",
      "\n",
      "======== comp.sys.ibm.pc.hardware ========\n",
      "thought I'd post this as well as e-mail it, just in case anyone else is\n",
      "interested in this info.....     I suggest that you go direct to the original\n",
      "(and preferred...best quality) source for all of this, just as you would (at\n",
      "least, should) for the chips themselves:  National Semiconductor.  you can reach\n",
      "them at 1-800-272-9959. they no longer package the data sheets in a book, as\n",
      "they did when I got mine, but you can get them as individual sets of data\n",
      "sheets.  you want, as a minimum, the following:     *) 2 sets of data sheets:\n",
      "*) NS16450/INS8250A/NS16C450/INS82C50A       *) NS16550AF     *) 2 application\n",
      "notes (yes, GET THESE!):       *) AN-491 The NS16550A: UART Design and\n",
      "Application Considerations       *) AN-493 A Comparison of the INS8250, NS16450\n",
      "and NS16550AF Series          of UARTs  both of the application notes I listed\n",
      "have proven to be AT LEAST as valuable as the data sheets themselves (more,\n",
      "actually).  AN-491, in particular, is an exceptionally well-written application\n",
      "note that goes into detail about how and why the 16550 does what it does, and\n",
      "how best to take advantage of it.  btw, they send these out free, as long as you\n",
      "don't abuse it.  later,    --jim  -- #include <std_disclaimer.h>\n",
      "73 DE N5IAL (/4)\n",
      "------------------------------------------------------------------------------\n",
      "INTERNET: jim@n5ial.mythical.com  |  j.graham@ieee.org     ICBM: 30.23N 86.32W\n",
      "AMATEUR RADIO: n5ial@w4zbb (Ft. Walton Beach, FL)          AMTOR SELCAL: NIAL\n",
      "\n",
      "\n",
      "======== sci.space ========\n",
      "I saw in the newspaper last night that Dr. Mae Jemison, the first black woman in\n",
      "space (she's a physician and chemical engineer who flew on Endeavour last year)\n",
      "will appear as a transporter operator on the \"Star Trek: The Next Generation\"\n",
      "episode that airs the week of May 31. It's hardly space science, I know, but\n",
      "it's interesting.\n",
      "\n",
      "\n",
      "======== talk.politics.misc ========\n",
      "Just how much power does the House of Lords have now?\n",
      "------------------------------------------------------------------------------\n",
      "\"Who said anything about panicking?\" snapped Authur.           Garrett Johnson\n",
      "\"This is still just culture shock. You wait till I've       Garrett@Ingres.com\n",
      "settled into the situation and found my bearings. THEN I'll start panicking!\" -\n",
      "Douglas Adams\n",
      "\n",
      "\n",
      "======== comp.windows.x ========\n",
      "Can anyone help me?  I am having a problem displaying images greater than 32768\n",
      "bytes from a Decwindows program running on a Vax 6310, and displaying on a Sparc\n",
      "IPC running Openwindows 3.0 and dni. The program works fine with Openwindows\n",
      "2.0.  The code segment which fails is given below, the program simply crashes\n",
      "out with an Xlib I/O error at the XPutImage() call.          XImage\n",
      "*ximage;         ximage = XCreateImage(myDisplay, DefaultVisual(myDisplay,\n",
      "myScreen),                                ddepth, ZPixmap, 0, image,\n",
      "xwid, ywid, 8, 0);         XPutImage(myDisplay, myWindow, myGC,\n",
      "ximage, 0, 0, xpos, ypos, xwid, ywid);\n",
      "-----------------------------------------------------------------------------\n",
      "\n",
      "\n",
      "======== alt.atheism ========\n",
      "  That's the entire point!   Yes!  Natural morality is a morality that developed\n",
      "naturally.   Huh?\n",
      "\n",
      "\n",
      "======== comp.os.ms-windows.misc ========\n",
      " [lines deleted]   This list appears to imply, that MS-windows that has a cost\n",
      "listed above at $70, comes with a C compiler, C++ and Fortran. It does not, of\n",
      "course. These are expensive add-ons that drive the price WAY beyond $70. ( I\n",
      "don't know if the same applies to OS/2 )  As far as unix is concerned; There is\n",
      "a free unix, linux, that has cc, ~c++, fortran ( f2c ), Xwindows and many other\n",
      "features besides, with a large number of utilities that can be optionally added.\n",
      "And there is also a free 386BSD I believe. Both these unix's are quite robust.\n",
      "You can check out comp.os.linux  If you don't want to \"throw our many down the\n",
      "tubes\", you've got to break that list down a little more.\n",
      "\n",
      "\n",
      "======== talk.religion.misc ========\n",
      " We have no way to know that the cultists burned the house; it could have been\n",
      "the BATF and FBI.  We only have the government's word for it, after all, and\n",
      "people who started it by a no-knock search with concussion grenades are hardly\n",
      "disinterested observers. -- \"On the first day after Christmas my truelove served\n",
      "to me...  Leftover Turkey! On the second day after Christmas my truelove served\n",
      "to me...  Turkey Casserole     that she made from Leftover Turkey. [days 3-4\n",
      "deleted] ...  Flaming Turkey Wings! ...    -- Pizza Hut commercial (and\n",
      "M*tlu/A*gic bait)\n",
      "\n",
      "\n",
      "======== misc.forsale ========\n",
      "DJ> Subject: New aircraft TU-154M for leasing, set spare parts.  DJ> ~~  DJ>\n",
      "There are a few things wrong with the potential sale of this   DJ> aircraft:\n",
      "DJ> There is starting to be a glut of new aircraft on the market  DJ> (Airlines\n",
      "are taking delivery, then mothballing their new   DJ> planes).    DJ> Unless the\n",
      "fuel efficiency is better than the Airbus 320 or   DJ> Boeing 767, this plane is\n",
      "not economically feasible for the   DJ> major players (airlines). Unless the\n",
      "price is real cheap, and   DJ> you have an owner that doesn't care about fuel\n",
      "economy (Saudi   DJ> Family, maybe??) sales ought to be pretty glim.   Ummm...\n",
      "I'd be surprised if you couldn't find a gov't aid program to subsidize and/or\n",
      "underwrite the lease...  that could make it quite an attractive arrangement...\n",
      "Bizarre?  Yes.  Impossible?  Not really...\n",
      "\n",
      "\n",
      "======== rec.motorcycles ========\n",
      "  As you point out, the experiments would be difficult. But we know enough about\n",
      "the physics of the situation to do some calculations. There are in fact three\n",
      "effects contributing to leaning the bike over to begin a turn.          1. Gyro\n",
      "effect causing a torque which twists the bike over.          2. Contact patch\n",
      "having shifted to one side, causing bike to fall over.          3. Contact patch\n",
      "being accelerated to the side, causing a         torque which twists the bike\n",
      "over.  Take an average bike/rider, average bike wheel, and at speeds of 5, 15,\n",
      "and 50 mph (say) calculate how much twist of the bars would be needed to produce\n",
      "(say) 20 degrees of lean in (say) 2 seconds by each effect alone. My guess is\n",
      "that at slow speeds 2 is dominant, and at high speeds 3 is dominant, and at all\n",
      "speeds 1 contributes not far off bugger all, relatively speaking.  By the way, a\n",
      "similar problem is this: how does a runner who wants to run round a corner get\n",
      "leaned into the corner fast? Is there a running group where we could start\n",
      "\"counter-footing\" arguments and have them all falling over as they tried to work\n",
      "out how they go round corners?\n",
      "\n"
     ]
    }
   ],
   "source": [
    "# Wrap text to 80 characters.\n",
    "wrapper = textwrap.TextWrapper(width=80) \n",
    "\n",
    "# Randomly choose some examples.\n",
    "for i in range(10):\n",
    "    \n",
    "    # Choose a random sample by index.\n",
    "    j = random.choice(range(len(train.data)))\n",
    "    \n",
    "    # Get the text as 'x' and the label integer as 'y'.\n",
    "    x = train.data[j]\n",
    "    y = train.target[j]\n",
    "\n",
    "    # Print out the name of the category and the text.\n",
    "    print('')\n",
    "    print('========', train.target_names[y], '========')\n",
    "    print(wrapper.fill(x))\n",
    "    print('')\n"
   ]
  },
  {
   "attachments": {},
   "cell_type": "markdown",
   "metadata": {},
   "source": [
    "### 2.3. Exploratory Data Analysis and Checking for imbalances in the dataset."
   ]
  },
  {
   "cell_type": "code",
   "execution_count": 20,
   "metadata": {},
   "outputs": [
    {
     "name": "stdout",
     "output_type": "stream",
     "text": [
      "Total number of Data-points in the Train Data: 11314\n",
      "Total number of data-points in the Test Data: 7532\n",
      "Total number of classes in the Data-set, C = 20\n"
     ]
    }
   ],
   "source": [
    "print(f\"Total number of Data-points in the Train Data: {len(train.data)}\")\n",
    "print(f\"Total number of data-points in the Test Data: {len(test.data)}\")\n",
    "print(f\"Total number of classes in the Data-set, C = {len(np.unique(np.array(train.target)))}\")"
   ]
  },
  {
   "cell_type": "code",
   "execution_count": 17,
   "metadata": {},
   "outputs": [
    {
     "data": {
      "text/plain": [
       "Text(0, 0.5, '# of Training Samples')"
      ]
     },
     "execution_count": 17,
     "metadata": {},
     "output_type": "execute_result"
    },
    {
     "data": {
      "image/png": "[encoded data removed]",
      "text/plain": [
       "<Figure size 1000x500 with 1 Axes>"
      ]
     },
     "metadata": {},
     "output_type": "display_data"
    }
   ],
   "source": [
    "\n",
    "sns.set(style='darkgrid')\n",
    "\n",
    "# Increase the plot size and font size.\n",
    "sns.set(font_scale=1.5)\n",
    "plt.rcParams[\"figure.figsize\"] = (10,5)\n",
    "\n",
    "\n",
    "# Plot the number of tokens of each length.\n",
    "sns.countplot(x=train.target)\n",
    "plt.title('Class Distribution')\n",
    "plt.xlabel('Category')\n",
    "plt.ylabel('# of Training Samples')\n"
   ]
  },
  {
   "attachments": {},
   "cell_type": "markdown",
   "metadata": {},
   "source": [
    "Except class 19, which corresponds to 'talk.religion.misc', every other class is well balanced."
   ]
  },
  {
   "cell_type": "code",
   "execution_count": 7,
   "metadata": {},
   "outputs": [
    {
     "data": {
      "text/plain": [
       "'talk.religion.misc'"
      ]
     },
     "execution_count": 7,
     "metadata": {},
     "output_type": "execute_result"
    }
   ],
   "source": [
    "train.target_names[19]"
   ]
  },
  {
   "attachments": {},
   "cell_type": "markdown",
   "metadata": {},
   "source": [
    "## S3. Tokenization using BertTokenizer."
   ]
  },
  {
   "attachments": {},
   "cell_type": "markdown",
   "metadata": {},
   "source": [
    "### 3.1 Loading the BertTokenizer."
   ]
  },
  {
   "attachments": {},
   "cell_type": "markdown",
   "metadata": {},
   "source": [
    "To feed our text to BERT, it must be split into tokens, and then these tokens must be mapped to their index in the tokenizer vocabulary. The tokenization must be performed by the tokenizer included with BERT--the below cell will download this for us. We'll be using the \"uncased\" version here."
   ]
  },
  {
   "cell_type": "code",
   "execution_count": 21,
   "metadata": {},
   "outputs": [
    {
     "name": "stdout",
     "output_type": "stream",
     "text": [
      "Loading BERT tokenizer...\n"
     ]
    }
   ],
   "source": [
    "# Load the BERT tokenizer.\n",
    "print('Loading BERT tokenizer...')\n",
    "tokenizer = BertTokenizer.from_pretrained('bert-base-uncased', do_lower_case=True)"
   ]
  },
  {
   "cell_type": "code",
   "execution_count": 22,
   "metadata": {},
   "outputs": [
    {
     "name": "stdout",
     "output_type": "stream",
     "text": [
      " Original:  I was wondering if anyone out there could enlighten me on this car I saw\n",
      "the other day. It was a 2-door sports car, looked to be from the late 60s/\n",
      "early 70s. It was called a Bricklin. The doors were really small. In addition,\n",
      "the front bumper was separate from the rest of the body. This is \n",
      "all I know. If anyone can tellme a model name, engine specs, years\n",
      "of production, where this car is made, history, or whatever info you\n",
      "have on this funky looking car, please e-mail.\n",
      "Tokenized:  ['i', 'was', 'wondering', 'if', 'anyone', 'out', 'there', 'could', 'en', '##light', '##en', 'me', 'on', 'this', 'car', 'i', 'saw', 'the', 'other', 'day', '.', 'it', 'was', 'a', '2', '-', 'door', 'sports', 'car', ',', 'looked', 'to', 'be', 'from', 'the', 'late', '60s', '/', 'early', '70s', '.', 'it', 'was', 'called', 'a', 'brick', '##lin', '.', 'the', 'doors', 'were', 'really', 'small', '.', 'in', 'addition', ',', 'the', 'front', 'bumper', 'was', 'separate', 'from', 'the', 'rest', 'of', 'the', 'body', '.', 'this', 'is', 'all', 'i', 'know', '.', 'if', 'anyone', 'can', 'tell', '##me', 'a', 'model', 'name', ',', 'engine', 'spec', '##s', ',', 'years', 'of', 'production', ',', 'where', 'this', 'car', 'is', 'made', ',', 'history', ',', 'or', 'whatever', 'info', 'you', 'have', 'on', 'this', 'funky', 'looking', 'car', ',', 'please', 'e', '-', 'mail', '.']\n",
      "Token IDs:  [1045, 2001, 6603, 2065, 3087, 2041, 2045, 2071, 4372, 7138, 2368, 2033, 2006, 2023, 2482, 1045, 2387, 1996, 2060, 2154, 1012, 2009, 2001, 1037, 1016, 1011, 2341, 2998, 2482, 1010, 2246, 2000, 2022, 2013, 1996, 2397, 20341, 1013, 2220, 17549, 1012, 2009, 2001, 2170, 1037, 5318, 4115, 1012, 1996, 4303, 2020, 2428, 2235, 1012, 1999, 2804, 1010, 1996, 2392, 21519, 2001, 3584, 2013, 1996, 2717, 1997, 1996, 2303, 1012, 2023, 2003, 2035, 1045, 2113, 1012, 2065, 3087, 2064, 2425, 4168, 1037, 2944, 2171, 1010, 3194, 28699, 2015, 1010, 2086, 1997, 2537, 1010, 2073, 2023, 2482, 2003, 2081, 1010, 2381, 1010, 2030, 3649, 18558, 2017, 2031, 2006, 2023, 24151, 2559, 2482, 1010, 3531, 1041, 1011, 5653, 1012]\n"
     ]
    }
   ],
   "source": [
    "# Sample Toeknization Example.\n",
    "# Print the original sentence.\n",
    "print(' Original: ', train.data[0])\n",
    "\n",
    "# Print the sentence split into tokens.\n",
    "print('Tokenized: ', tokenizer.tokenize(train.data[0]))\n",
    "\n",
    "# Print the sentence mapped to token ids.\n",
    "print('Token IDs: ', tokenizer.convert_tokens_to_ids(tokenizer.tokenize(train.data[0])))"
   ]
  },
  {
   "attachments": {},
   "cell_type": "markdown",
   "metadata": {},
   "source": [
    "### 3.2. Tokenize All Samples\n",
    "\n",
    "The tokenizer.encode function combines multiple steps for us:\n",
    "\n",
    "* Split the sentence into tokens.\n",
    "* Add the special [CLS] and [SEP] tokens.\n",
    "* Map the tokens to their IDs.\n",
    "\n",
    "In order to explore the distribution of sequence lengths, we will not perform any truncation here. Unfortunately, this results in the tokenizer spitting out a warning for every sample that's longer than 512 tokens. We'll just have to ignore those for now!"
   ]
  },
  {
   "cell_type": "code",
   "execution_count": 24,
   "metadata": {},
   "outputs": [
    {
     "name": "stdout",
     "output_type": "stream",
     "text": [
      "Tokenizing the input sentences in train data (11314 examples)\n",
      "Tokenization Process Completed.\n",
      "Tokenized 11314 sentences from the Train Data!\n"
     ]
    }
   ],
   "source": [
    "# Tokenize all of the sentences and map the tokens to thier word IDs.\n",
    "input_ids = []\n",
    "\n",
    "# Record the length of each sequence (in terms of BERT tokens).\n",
    "lengths = []\n",
    "\n",
    "print('Tokenizing the input sentences in train data (11314 examples)')\n",
    "\n",
    "# For every sentence...\n",
    "for sentence in train.data:\n",
    "\n",
    "    # `encode` will:\n",
    "    #   (1) Tokenize the sentence.\n",
    "    #   (2) Prepend the `[CLS]` token to the start.\n",
    "    #   (3) Append the `[SEP]` token to the end.\n",
    "    #   (4) Map tokens to their IDs.\n",
    "    encoded_sent = tokenizer.encode(\n",
    "                        sentence,                      # Sentence to encode.\n",
    "                        add_special_tokens = True, # Add '[CLS]' and '[SEP]'\n",
    "                        #max_length = 512,          # Truncate all sentences.                        \n",
    "                        #return_tensors = 'pt',     # Return pytorch tensors.\n",
    "                   )\n",
    "    \n",
    "    # Add the encoded sentence to the list.\n",
    "    input_ids.append(encoded_sent)\n",
    "\n",
    "    # Record the non-truncated length.\n",
    "    lengths.append(len(encoded_sent))\n",
    "\n",
    "print('Tokenization Process Completed.')\n",
    "print(f\"Tokenized {len(train.data)} sentences from the Train Data!\")"
   ]
  },
  {
   "attachments": {},
   "cell_type": "markdown",
   "metadata": {},
   "source": [
    "### 3.3. Understanding the distribution of sentence lengths in the Train Data."
   ]
  },
  {
   "cell_type": "code",
   "execution_count": 27,
   "metadata": {},
   "outputs": [
    {
     "name": "stdout",
     "output_type": "stream",
     "text": [
      "Min length: 2 tokens\n",
      "Max length: 52886 tokens\n",
      "Median length: 124.0 tokens\n"
     ]
    }
   ],
   "source": [
    "print(f\"Min length: {min(lengths)} tokens\")\n",
    "print(f'Max length: {max(lengths)} tokens')\n",
    "print(f'Median length: {np.median(lengths)} tokens')"
   ]
  },
  {
   "attachments": {},
   "cell_type": "markdown",
   "metadata": {},
   "source": [
    "### 3.4. Analysing the percentage of data over the 512 limit"
   ]
  },
  {
   "cell_type": "code",
   "execution_count": 28,
   "metadata": {},
   "outputs": [
    {
     "name": "stdout",
     "output_type": "stream",
     "text": [
      "1,015 of 11,314 comments will be truncated (8.97%)\n"
     ]
    }
   ],
   "source": [
    "num_over = 0\n",
    "\n",
    "# For all of the length values...\n",
    "for length in lengths:\n",
    "    # Tally if it's over 512.\n",
    "    if length > 512:\n",
    "        num_over += 1\n",
    "\n",
    "print('{:,} of {:,} comments will be truncated ({:.2%})'.format(num_over, len(lengths), float(num_over) / float(len(lengths))))"
   ]
  },
  {
   "attachments": {},
   "cell_type": "markdown",
   "metadata": {},
   "source": [
    "The BERT-base-uncased model indeed uses an embedding layer with weights of dimension 30522 x 768 for the wordpiece vocabulary.\n",
    "\n",
    "In BERT, the first embedding layer is known as the token embedding layer, and it maps the input wordpiece IDs to their corresponding embedding vectors. The vocabulary size in BERT-base-uncased is 30522, meaning it can handle up to 30522 different wordpiece tokens.\n",
    "\n",
    "Each wordpiece token in the vocabulary is associated with a 768-dimensional embedding vector. Therefore, the embedding layer in BERT-base-uncased has weights with dimensions of 30522 x 768, where each row corresponds to the embedding vector of a specific wordpiece token in the vocabulary."
   ]
  },
  {
   "attachments": {},
   "cell_type": "markdown",
   "metadata": {},
   "source": [
    "Before converting text to wordpiece tokens in BERT, there is typically a limit on the maximum number of tokens in a sentence. This limit is often referred to as the \"maximum sequence length\" or MAX_LEN.\n",
    "\n",
    "In BERT, the maximum sequence length is determined based on the architecture and configuration of the specific model being used. The most common maximum sequence length used in BERT models is 512 tokens.\n",
    "\n",
    "If a sentence has more than the maximum sequence length, it needs to be truncated or split into smaller parts to fit within the limit. Truncation involves discarding tokens from the end of the sentence, while splitting involves dividing the sentence into multiple segments or chunks."
   ]
  },
  {
   "attachments": {},
   "cell_type": "markdown",
   "metadata": {},
   "source": [
    "### 3.5. Truncating the longer sentences and Perform Tokenization"
   ]
  },
  {
   "attachments": {},
   "cell_type": "markdown",
   "metadata": {},
   "source": [
    "Given the higher percentage of longer-than-512-tokens samples, I thought it might make sense to try a maximum length of 512 for this example. However, with batch_size = 32 and max_len = 512, I ran into a GPU out-of-memory error on the first iteration of the training loop!\n",
    "\n",
    "After performing some analysis and a number of experiment,\n",
    "\n",
    "* If the combination of your batch_size and max_len are too high, then you can easily run out of memory (even on a Tesla K80 with 12GB!) when fine-tuning BERT-base. For example, with batch_size = 16, a max_len = ~400 is about the limit on a Tesla K80.\n",
    "* Reducing batch_size reduces memory consumption, but at the cost of slower training, and finding the best choice of batch_size appears to be important for accuracy.\n",
    "* Reducing max_len reduces memory consumption and speeds up training, but has a substantial impact on BERT's accuracy on this benchmark."
   ]
  },
  {
   "cell_type": "code",
   "execution_count": 29,
   "metadata": {},
   "outputs": [],
   "source": [
    "max_len = 300"
   ]
  },
  {
   "cell_type": "code",
   "execution_count": 30,
   "metadata": {},
   "outputs": [],
   "source": [
    "def my_tokenize(comments, labels, max_len):\n",
    "    '''\n",
    "    Tokenize a dataset of comments.\n",
    "\n",
    "    Parameters:\n",
    "      `comments` - List of comments, represented as strings.\n",
    "        `labels` - List of integer labels for the corresponding comments.\n",
    "       `max_len` - Truncate all of the comments down to this length.\n",
    "    \n",
    "    Returns:\n",
    "      `input_ids` - All of the comments represented as lists of token IDs,\n",
    "                    padded out to `max_len`, and cast as a PyTorch tensor.\n",
    "         `labels` - The labels for the corresponding comments, formatted as \n",
    "                    a PyTorch tensor.\n",
    "      `attention_masks` - PyTorch tensor with the same dimensions as\n",
    "                          `input_ids`. For each token, simply indicates whether\n",
    "                           it is padding or not.\n",
    "    '''\n",
    "    # Tokenize all of the sentences and map the tokens to thier word IDs.\n",
    "    input_ids = []\n",
    "    attention_masks = []\n",
    "\n",
    "    print('Tokenizing {:,} comments...'.format(len(comments)))\n",
    "\n",
    "    # For every comment (\"sentence\")...\n",
    "    for sent in comments:\n",
    "\n",
    "        # Report progress.\n",
    "        if ((len(input_ids) % 500) == 0):\n",
    "            print('  Tokenized {:,} comments.'.format(len(input_ids)))\n",
    "\n",
    "        # `encode_plus` will:\n",
    "        #   (1) Tokenize the sentence.\n",
    "        #   (2) Prepend the `[CLS]` token to the start.\n",
    "        #   (3) Append the `[SEP]` token to the end.\n",
    "        #   (4) Map tokens to their IDs.\n",
    "        #   (5) Pad or truncate the sentence to `max_length`\n",
    "        #   (6) Create attention masks for [PAD] tokens.\n",
    "        encoded_dict = tokenizer.encode_plus(\n",
    "                            sent,                      # Sentence to encode.\n",
    "                            add_special_tokens = True, # Add '[CLS]' and '[SEP]'\n",
    "                            max_length = max_len,      # Pad & truncate all sentences.\n",
    "                            pad_to_max_length = True,\n",
    "                            return_attention_mask = True,   # Construct attn. masks.\n",
    "                            return_tensors = 'pt',     # Return pytorch tensors.\n",
    "                    )\n",
    "        \n",
    "        # Add the encoded sentence to the list.    \n",
    "        input_ids.append(encoded_dict['input_ids'])\n",
    "        \n",
    "        # And its attention mask (simply differentiates padding from non-padding).\n",
    "        attention_masks.append(encoded_dict['attention_mask'])\n",
    "\n",
    "    # Convert the lists into tensors.\n",
    "    input_ids = torch.cat(input_ids, dim=0)\n",
    "    attention_masks = torch.cat(attention_masks, dim=0)\n",
    "\n",
    "    # Convert the labels to a tensor.\n",
    "    labels = torch.tensor(labels)\n",
    "\n",
    "    return (input_ids, labels, attention_masks)\n"
   ]
  },
  {
   "cell_type": "code",
   "execution_count": null,
   "metadata": {},
   "outputs": [],
   "source": []
  }
 ],
 "metadata": {
  "kernelspec": {
   "display_name": "ilabs",
   "language": "python",
   "name": "python3"
  },
  "language_info": {
   "codemirror_mode": {
    "name": "ipython",
    "version": 3
   },
   "file_extension": ".py",
   "mimetype": "text/x-python",
   "name": "python",
   "nbconvert_exporter": "python",
   "pygments_lexer": "ipython3",
   "version": "3.11.3"
  },
  "orig_nbformat": 4
 },
 "nbformat": 4,
 "nbformat_minor": 2
}
