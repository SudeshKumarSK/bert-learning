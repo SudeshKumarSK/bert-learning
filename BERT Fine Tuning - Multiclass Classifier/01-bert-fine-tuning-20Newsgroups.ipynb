{
 "cells": [
  {
   "attachments": {},
   "cell_type": "markdown",
   "metadata": {},
   "source": [
    "### Contributor: Sudesh Kumar Santhosh Kumar\n",
    "- Email: sudeshkumar.santhoshkumar@lexisnexis.com\n",
    "- Date: 21st June, 2023\n",
    "\n",
    "Description:  This Notebook will show you how to fine-tune BERT for multi-class text classification tasks, meaning that there are more than just two classes in the dataset. We'll be using the 20 Newsgroups dataset, which is a test classification dataset with 20 different classes. "
   ]
  },
  {
   "cell_type": "markdown",
   "metadata": {},
   "source": []
  }
 ],
 "metadata": {
  "language_info": {
   "name": "python"
  },
  "orig_nbformat": 4
 },
 "nbformat": 4,
 "nbformat_minor": 2
}
